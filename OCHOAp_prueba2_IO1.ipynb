{
  "nbformat": 4,
  "nbformat_minor": 0,
  "metadata": {
    "colab": {
      "provenance": [],
      "authorship_tag": "ABX9TyOVy/tVf+5zS+l6eNfzJR4i",
      "include_colab_link": true
    },
    "kernelspec": {
      "name": "python3",
      "display_name": "Python 3"
    },
    "language_info": {
      "name": "python"
    }
  },
  "cells": [
    {
      "cell_type": "markdown",
      "metadata": {
        "id": "view-in-github",
        "colab_type": "text"
      },
      "source": [
        "<a href=\"https://colab.research.google.com/github/pochoap/SegundoEjemploIO2/blob/main/OCHOAp_prueba2_IO1.ipynb\" target=\"_parent\"><img src=\"https://colab.research.google.com/assets/colab-badge.svg\" alt=\"Open In Colab\"/></a>"
      ]
    },
    {
      "cell_type": "markdown",
      "source": [
        "#primer ejericio\n",
        "##Subtitulo\n"
      ],
      "metadata": {
        "id": "QqZtCVX73tSM"
      }
    },
    {
      "cell_type": "code",
      "execution_count": 1,
      "metadata": {
        "colab": {
          "base_uri": "https://localhost:8080/"
        },
        "id": "5Xfb_teK2jAr",
        "outputId": "764f5050-21b1-4743-bfef-71044eb38953"
      },
      "outputs": [
        {
          "output_type": "stream",
          "name": "stdout",
          "text": [
            "Hola mundo\n"
          ]
        }
      ],
      "source": [
        "print(\"Buenos Dìas mundo\")"
      ]
    },
    {
      "cell_type": "markdown",
      "source": [
        "#Segundo Ejercicio\n"
      ],
      "metadata": {
        "id": "qHGxokF44SY0"
      }
    },
    {
      "cell_type": "code",
      "source": [
        "print(\"Buenos Dìas,  Pablo\")"
      ],
      "metadata": {
        "colab": {
          "base_uri": "https://localhost:8080/"
        },
        "id": "f1QRKzFm4at0",
        "outputId": "d75535a8-5216-40dc-ae59-f05146f8bb7c"
      },
      "execution_count": 2,
      "outputs": [
        {
          "output_type": "stream",
          "name": "stdout",
          "text": [
            "Hola, mi nombre es Pablo\n"
          ]
        }
      ]
    }
  ]
}